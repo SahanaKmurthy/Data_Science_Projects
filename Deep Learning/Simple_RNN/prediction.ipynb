{
 "cells": [
  {
   "cell_type": "code",
   "execution_count": 1,
   "id": "c708c07a",
   "metadata": {},
   "outputs": [],
   "source": [
    "import numpy as np\n",
    "import tensorflow as tf\n",
    "from tensorflow.keras.datasets import imdb\n",
    "from tensorflow.keras.preprocessing import sequence\n",
    "from tensorflow.keras.models import load_model"
   ]
  },
  {
   "cell_type": "code",
   "execution_count": 2,
   "id": "098b76a2",
   "metadata": {},
   "outputs": [],
   "source": [
    "# load the data and word_index\n",
    "word_index = imdb.get_word_index()\n",
    "reverse_word_index = {value: key for key,value in word_index.items()}"
   ]
  },
  {
   "cell_type": "code",
   "execution_count": 3,
   "id": "94c47406",
   "metadata": {},
   "outputs": [
    {
     "name": "stderr",
     "output_type": "stream",
     "text": [
      "WARNING:absl:Compiled the loaded model, but the compiled metrics have yet to be built. `model.compile_metrics` will be empty until you train or evaluate the model.\n"
     ]
    }
   ],
   "source": [
    "# load the pretrained model with relu activation\n",
    "model = load_model(\"simple_rnn_imdb.h5\")"
   ]
  },
  {
   "cell_type": "code",
   "execution_count": 4,
   "id": "a7540cb1",
   "metadata": {},
   "outputs": [
    {
     "data": {
      "text/html": [
       "<pre style=\"white-space:pre;overflow-x:auto;line-height:normal;font-family:Menlo,'DejaVu Sans Mono',consolas,'Courier New',monospace\"><span style=\"font-weight: bold\">Model: \"sequential\"</span>\n",
       "</pre>\n"
      ],
      "text/plain": [
       "\u001b[1mModel: \"sequential\"\u001b[0m\n"
      ]
     },
     "metadata": {},
     "output_type": "display_data"
    },
    {
     "data": {
      "text/html": [
       "<pre style=\"white-space:pre;overflow-x:auto;line-height:normal;font-family:Menlo,'DejaVu Sans Mono',consolas,'Courier New',monospace\">┏━━━━━━━━━━━━━━━━━━━━━━━━━━━━━━━━━┳━━━━━━━━━━━━━━━━━━━━━━━━┳━━━━━━━━━━━━━━━┓\n",
       "┃<span style=\"font-weight: bold\"> Layer (type)                    </span>┃<span style=\"font-weight: bold\"> Output Shape           </span>┃<span style=\"font-weight: bold\">       Param # </span>┃\n",
       "┡━━━━━━━━━━━━━━━━━━━━━━━━━━━━━━━━━╇━━━━━━━━━━━━━━━━━━━━━━━━╇━━━━━━━━━━━━━━━┩\n",
       "│ embedding (<span style=\"color: #0087ff; text-decoration-color: #0087ff\">Embedding</span>)           │ (<span style=\"color: #00af00; text-decoration-color: #00af00\">32</span>, <span style=\"color: #00af00; text-decoration-color: #00af00\">500</span>, <span style=\"color: #00af00; text-decoration-color: #00af00\">128</span>)         │     <span style=\"color: #00af00; text-decoration-color: #00af00\">1,280,000</span> │\n",
       "├─────────────────────────────────┼────────────────────────┼───────────────┤\n",
       "│ simple_rnn (<span style=\"color: #0087ff; text-decoration-color: #0087ff\">SimpleRNN</span>)          │ (<span style=\"color: #00af00; text-decoration-color: #00af00\">32</span>, <span style=\"color: #00af00; text-decoration-color: #00af00\">128</span>)              │        <span style=\"color: #00af00; text-decoration-color: #00af00\">32,896</span> │\n",
       "├─────────────────────────────────┼────────────────────────┼───────────────┤\n",
       "│ dense (<span style=\"color: #0087ff; text-decoration-color: #0087ff\">Dense</span>)                   │ (<span style=\"color: #00af00; text-decoration-color: #00af00\">32</span>, <span style=\"color: #00af00; text-decoration-color: #00af00\">1</span>)                │           <span style=\"color: #00af00; text-decoration-color: #00af00\">129</span> │\n",
       "└─────────────────────────────────┴────────────────────────┴───────────────┘\n",
       "</pre>\n"
      ],
      "text/plain": [
       "┏━━━━━━━━━━━━━━━━━━━━━━━━━━━━━━━━━┳━━━━━━━━━━━━━━━━━━━━━━━━┳━━━━━━━━━━━━━━━┓\n",
       "┃\u001b[1m \u001b[0m\u001b[1mLayer (type)                   \u001b[0m\u001b[1m \u001b[0m┃\u001b[1m \u001b[0m\u001b[1mOutput Shape          \u001b[0m\u001b[1m \u001b[0m┃\u001b[1m \u001b[0m\u001b[1m      Param #\u001b[0m\u001b[1m \u001b[0m┃\n",
       "┡━━━━━━━━━━━━━━━━━━━━━━━━━━━━━━━━━╇━━━━━━━━━━━━━━━━━━━━━━━━╇━━━━━━━━━━━━━━━┩\n",
       "│ embedding (\u001b[38;5;33mEmbedding\u001b[0m)           │ (\u001b[38;5;34m32\u001b[0m, \u001b[38;5;34m500\u001b[0m, \u001b[38;5;34m128\u001b[0m)         │     \u001b[38;5;34m1,280,000\u001b[0m │\n",
       "├─────────────────────────────────┼────────────────────────┼───────────────┤\n",
       "│ simple_rnn (\u001b[38;5;33mSimpleRNN\u001b[0m)          │ (\u001b[38;5;34m32\u001b[0m, \u001b[38;5;34m128\u001b[0m)              │        \u001b[38;5;34m32,896\u001b[0m │\n",
       "├─────────────────────────────────┼────────────────────────┼───────────────┤\n",
       "│ dense (\u001b[38;5;33mDense\u001b[0m)                   │ (\u001b[38;5;34m32\u001b[0m, \u001b[38;5;34m1\u001b[0m)                │           \u001b[38;5;34m129\u001b[0m │\n",
       "└─────────────────────────────────┴────────────────────────┴───────────────┘\n"
      ]
     },
     "metadata": {},
     "output_type": "display_data"
    },
    {
     "data": {
      "text/html": [
       "<pre style=\"white-space:pre;overflow-x:auto;line-height:normal;font-family:Menlo,'DejaVu Sans Mono',consolas,'Courier New',monospace\"><span style=\"font-weight: bold\"> Total params: </span><span style=\"color: #00af00; text-decoration-color: #00af00\">1,313,027</span> (5.01 MB)\n",
       "</pre>\n"
      ],
      "text/plain": [
       "\u001b[1m Total params: \u001b[0m\u001b[38;5;34m1,313,027\u001b[0m (5.01 MB)\n"
      ]
     },
     "metadata": {},
     "output_type": "display_data"
    },
    {
     "data": {
      "text/html": [
       "<pre style=\"white-space:pre;overflow-x:auto;line-height:normal;font-family:Menlo,'DejaVu Sans Mono',consolas,'Courier New',monospace\"><span style=\"font-weight: bold\"> Trainable params: </span><span style=\"color: #00af00; text-decoration-color: #00af00\">1,313,025</span> (5.01 MB)\n",
       "</pre>\n"
      ],
      "text/plain": [
       "\u001b[1m Trainable params: \u001b[0m\u001b[38;5;34m1,313,025\u001b[0m (5.01 MB)\n"
      ]
     },
     "metadata": {},
     "output_type": "display_data"
    },
    {
     "data": {
      "text/html": [
       "<pre style=\"white-space:pre;overflow-x:auto;line-height:normal;font-family:Menlo,'DejaVu Sans Mono',consolas,'Courier New',monospace\"><span style=\"font-weight: bold\"> Non-trainable params: </span><span style=\"color: #00af00; text-decoration-color: #00af00\">0</span> (0.00 B)\n",
       "</pre>\n"
      ],
      "text/plain": [
       "\u001b[1m Non-trainable params: \u001b[0m\u001b[38;5;34m0\u001b[0m (0.00 B)\n"
      ]
     },
     "metadata": {},
     "output_type": "display_data"
    },
    {
     "data": {
      "text/html": [
       "<pre style=\"white-space:pre;overflow-x:auto;line-height:normal;font-family:Menlo,'DejaVu Sans Mono',consolas,'Courier New',monospace\"><span style=\"font-weight: bold\"> Optimizer params: </span><span style=\"color: #00af00; text-decoration-color: #00af00\">2</span> (12.00 B)\n",
       "</pre>\n"
      ],
      "text/plain": [
       "\u001b[1m Optimizer params: \u001b[0m\u001b[38;5;34m2\u001b[0m (12.00 B)\n"
      ]
     },
     "metadata": {},
     "output_type": "display_data"
    }
   ],
   "source": [
    "model.summary()"
   ]
  },
  {
   "cell_type": "code",
   "execution_count": 6,
   "id": "5beb5bc7",
   "metadata": {},
   "outputs": [
    {
     "data": {
      "text/plain": [
       "[array([[ 0.5019357 , -0.9150492 , -0.5859587 , ...,  0.83336323,\n",
       "          0.925386  , -0.62507755],\n",
       "        [ 0.04397861, -0.14415318, -0.07431584, ...,  0.12815274,\n",
       "          0.10602982, -0.12596993],\n",
       "        [ 0.12683503, -0.25024068, -0.18173803, ...,  0.15903258,\n",
       "          0.11838492, -0.19107702],\n",
       "        ...,\n",
       "        [-0.04343547, -0.13214731,  0.06257723, ...,  0.03534196,\n",
       "         -0.01856829, -0.09919417],\n",
       "        [ 0.00798562, -0.11254667, -0.07979388, ...,  0.11180449,\n",
       "          0.07067005, -0.04055928],\n",
       "        [-0.06128032, -0.09545849,  0.01258173, ...,  0.12726995,\n",
       "          0.04761112, -0.11317984]], dtype=float32),\n",
       " array([[ 0.02337438, -0.16957225,  0.12905103, ..., -0.00584007,\n",
       "          0.07849209, -0.21712855],\n",
       "        [-0.10210627,  0.05366961, -0.13613398, ...,  0.17952688,\n",
       "          0.1209873 , -0.04689147],\n",
       "        [-0.1054647 , -0.0671562 , -0.05262559, ..., -0.00325189,\n",
       "         -0.00371112, -0.06254591],\n",
       "        ...,\n",
       "        [ 0.08099896, -0.1805056 ,  0.01565795, ...,  0.01347005,\n",
       "         -0.05413594, -0.17796074],\n",
       "        [ 0.1046701 , -0.18572128,  0.14545505, ..., -0.13649029,\n",
       "         -0.04936193, -0.0411258 ],\n",
       "        [-0.11769675, -0.02035268,  0.00137032, ...,  0.07496971,\n",
       "         -0.06305484, -0.0471962 ]], dtype=float32),\n",
       " array([[ 0.16640985,  0.04310056, -0.03332664, ..., -0.04288439,\n",
       "         -0.04320493,  0.01488057],\n",
       "        [ 0.03607107,  0.09461062,  0.13038135, ...,  0.07857084,\n",
       "         -0.0189262 ,  0.22651918],\n",
       "        [ 0.05327073, -0.01363859,  0.22413282, ...,  0.01828365,\n",
       "          0.0587613 ,  0.04285499],\n",
       "        ...,\n",
       "        [ 0.09232778, -0.07260005, -0.00833011, ...,  0.05108443,\n",
       "          0.109383  , -0.00145244],\n",
       "        [ 0.29860088,  0.09069733, -0.08427034, ..., -0.06497226,\n",
       "          0.0283368 , -0.02407918],\n",
       "        [-0.19071926,  0.07542745, -0.06639887, ..., -0.03988339,\n",
       "         -0.10423356,  0.06169354]], dtype=float32),\n",
       " array([ 0.01741637, -0.0484494 ,  0.00081048,  0.00214056, -0.01056644,\n",
       "         0.04067902,  0.00476799,  0.02728599,  0.06614043,  0.01080361,\n",
       "         0.02048628, -0.04369614, -0.03010653, -0.0008039 ,  0.00245474,\n",
       "        -0.01448468, -0.05355226, -0.02551506,  0.01967726,  0.01240499,\n",
       "        -0.07300549, -0.01360308, -0.02016026,  0.01193624, -0.0088878 ,\n",
       "        -0.03748415, -0.02684213, -0.02244731, -0.01656329,  0.00504058,\n",
       "        -0.05728501, -0.04221854,  0.00737169,  0.04423191, -0.04457732,\n",
       "        -0.03630159, -0.05235863, -0.02995921,  0.0007762 , -0.04280237,\n",
       "         0.01583048, -0.02199641, -0.00808844,  0.00398224,  0.03623606,\n",
       "         0.06935484, -0.02869617,  0.06851465,  0.05859124,  0.07383261,\n",
       "         0.05631657,  0.02717551, -0.01815754, -0.01849232, -0.02049885,\n",
       "        -0.01688064, -0.04881035, -0.00815355, -0.01203201, -0.0401841 ,\n",
       "        -0.05003339, -0.0484199 , -0.03262367, -0.05327474, -0.05586502,\n",
       "        -0.02531548,  0.02341763,  0.03026379,  0.03429537, -0.02698533,\n",
       "         0.0356677 , -0.01229196, -0.05664821,  0.02846825, -0.02733601,\n",
       "        -0.0234637 ,  0.01944103, -0.02423377, -0.01896518,  0.01523809,\n",
       "        -0.01827721, -0.04734643, -0.01304735,  0.02924215, -0.00696589,\n",
       "        -0.0335938 , -0.01691738, -0.02607477, -0.05765215, -0.00676445,\n",
       "        -0.01672248, -0.0422506 , -0.06393329, -0.00785761, -0.03733718,\n",
       "         0.0163449 , -0.00418822, -0.01369148,  0.0158253 ,  0.01491505,\n",
       "         0.03777958,  0.04584561, -0.06403118,  0.05293129, -0.0113346 ,\n",
       "         0.01885725, -0.0408042 , -0.01128551, -0.0106695 ,  0.02204207,\n",
       "         0.03201743,  0.02613134, -0.056162  , -0.03552917,  0.00781236,\n",
       "        -0.03609907, -0.03090228, -0.0537545 , -0.02908713, -0.02143768,\n",
       "         0.00156725, -0.0167763 ,  0.02495907,  0.0011965 , -0.04200618,\n",
       "        -0.04312844, -0.00553958,  0.02069738], dtype=float32),\n",
       " array([[ 2.26757616e-01],\n",
       "        [ 2.33985052e-01],\n",
       "        [-1.53850347e-01],\n",
       "        [ 2.48569876e-01],\n",
       "        [ 2.38033205e-01],\n",
       "        [-2.97028907e-02],\n",
       "        [ 1.79198340e-01],\n",
       "        [ 2.73540746e-02],\n",
       "        [-1.77762181e-01],\n",
       "        [-2.83129122e-02],\n",
       "        [ 7.76655376e-02],\n",
       "        [-1.69537380e-01],\n",
       "        [-1.98098049e-01],\n",
       "        [-1.72175288e-01],\n",
       "        [-7.90690109e-02],\n",
       "        [ 8.37799534e-02],\n",
       "        [-1.58202216e-01],\n",
       "        [ 4.14424352e-02],\n",
       "        [ 2.60939628e-01],\n",
       "        [ 1.43066078e-01],\n",
       "        [-1.18391477e-02],\n",
       "        [-5.68650588e-02],\n",
       "        [-1.37224153e-01],\n",
       "        [-1.31245166e-01],\n",
       "        [-5.11669442e-02],\n",
       "        [ 6.40370771e-02],\n",
       "        [ 1.72304213e-02],\n",
       "        [-1.00691028e-01],\n",
       "        [ 7.28885084e-02],\n",
       "        [-4.82017808e-02],\n",
       "        [ 1.44747213e-01],\n",
       "        [ 2.05476657e-02],\n",
       "        [-8.78735244e-01],\n",
       "        [-1.28614277e-01],\n",
       "        [-1.53297886e-01],\n",
       "        [ 1.66877246e-04],\n",
       "        [-1.12762950e-01],\n",
       "        [-6.43809363e-02],\n",
       "        [-1.09187057e-02],\n",
       "        [-2.65542388e-01],\n",
       "        [-1.38325036e-01],\n",
       "        [ 5.24049997e-01],\n",
       "        [ 7.11716935e-02],\n",
       "        [-2.13828862e-01],\n",
       "        [-1.04151100e-01],\n",
       "        [-5.84556423e-02],\n",
       "        [-4.34901975e-02],\n",
       "        [ 1.23314999e-01],\n",
       "        [-3.05405885e-01],\n",
       "        [-5.90058528e-02],\n",
       "        [-3.23580839e-02],\n",
       "        [-3.31378102e-01],\n",
       "        [ 1.13468496e-02],\n",
       "        [ 7.88458809e-02],\n",
       "        [-1.55461475e-01],\n",
       "        [-5.79356626e-02],\n",
       "        [-1.05392486e-01],\n",
       "        [ 4.31219414e-02],\n",
       "        [-1.54018432e-01],\n",
       "        [-8.28623250e-02],\n",
       "        [-1.17677048e-01],\n",
       "        [ 8.09211656e-02],\n",
       "        [-3.26624848e-02],\n",
       "        [ 1.54953793e-01],\n",
       "        [-1.60529599e-01],\n",
       "        [-2.42986344e-02],\n",
       "        [-7.06276670e-02],\n",
       "        [-1.04176261e-01],\n",
       "        [ 8.66978094e-02],\n",
       "        [ 2.65499473e-01],\n",
       "        [ 5.41729294e-02],\n",
       "        [ 6.62568361e-02],\n",
       "        [-5.30990250e-02],\n",
       "        [ 2.76226074e-01],\n",
       "        [-2.24405482e-01],\n",
       "        [-1.79776058e-01],\n",
       "        [ 9.01007210e-04],\n",
       "        [-1.30864710e-01],\n",
       "        [ 1.86842009e-01],\n",
       "        [-1.74177393e-01],\n",
       "        [ 3.10370419e-02],\n",
       "        [-5.19303605e-02],\n",
       "        [-2.01975286e-01],\n",
       "        [ 1.84330791e-01],\n",
       "        [ 8.36800877e-03],\n",
       "        [-9.53821391e-02],\n",
       "        [-9.47054029e-02],\n",
       "        [ 7.97462538e-02],\n",
       "        [-1.48206964e-01],\n",
       "        [-1.28206521e-01],\n",
       "        [-9.97857749e-03],\n",
       "        [-9.41120014e-02],\n",
       "        [-2.94098388e-02],\n",
       "        [-1.64249521e-02],\n",
       "        [-1.20804340e-01],\n",
       "        [-1.80985749e-01],\n",
       "        [ 1.93189621e-01],\n",
       "        [ 8.76316056e-02],\n",
       "        [-1.14412541e-02],\n",
       "        [-6.62400872e-02],\n",
       "        [-1.00376248e-01],\n",
       "        [ 3.93900694e-03],\n",
       "        [-1.11016139e-01],\n",
       "        [ 1.59897715e-01],\n",
       "        [ 2.75335312e-02],\n",
       "        [ 1.25943050e-01],\n",
       "        [ 6.27812073e-02],\n",
       "        [-4.02673371e-02],\n",
       "        [-6.95357099e-02],\n",
       "        [ 5.18932819e-01],\n",
       "        [ 2.99464405e-01],\n",
       "        [-2.80781910e-02],\n",
       "        [ 5.77467075e-03],\n",
       "        [-5.12404591e-02],\n",
       "        [-1.43148094e-01],\n",
       "        [-4.16517146e-02],\n",
       "        [-2.04576433e-01],\n",
       "        [ 1.16697088e-01],\n",
       "        [ 1.28825188e-01],\n",
       "        [ 3.42669711e-02],\n",
       "        [ 1.38741285e-01],\n",
       "        [-1.59106657e-01],\n",
       "        [ 6.92966441e-03],\n",
       "        [ 6.42008930e-02],\n",
       "        [-1.50810212e-01],\n",
       "        [-6.54443726e-02],\n",
       "        [-9.13555771e-02],\n",
       "        [-5.86614832e-02]], dtype=float32),\n",
       " array([-0.56967556], dtype=float32)]"
      ]
     },
     "execution_count": 6,
     "metadata": {},
     "output_type": "execute_result"
    }
   ],
   "source": [
    "model.get_weights()"
   ]
  },
  {
   "cell_type": "code",
   "execution_count": 7,
   "id": "725430ef",
   "metadata": {},
   "outputs": [],
   "source": [
    "# create a function to decode the review\n",
    "def decode_review(encoded_review):\n",
    "    return ''.join([reverse_word_index.get(i - 3 , \"?\") for i in encoded_review])\n",
    "\n",
    "# function to preprocess user input\n",
    "def preprocess_text(text):\n",
    "    words = text.lower().split()\n",
    "    encoded_review = [word_index.get(word, 2) + 3 for word in words]\n",
    "    padded_review = sequence.pad_sequences([encoded_review] , maxlen = 500)\n",
    "    return padded_review"
   ]
  },
  {
   "cell_type": "code",
   "execution_count": 10,
   "id": "620792d6",
   "metadata": {},
   "outputs": [],
   "source": [
    "# Prediction function\n",
    "def predict_sentiment(review):\n",
    "    preprocessed_input = preprocess_text(review)\n",
    "    prediction = model.predict(preprocessed_input)\n",
    "    sentiment = 'Positive' if prediction[0][0] > 0.5 else 'Negative'\n",
    "    return sentiment, prediction[0][0]"
   ]
  },
  {
   "cell_type": "code",
   "execution_count": 16,
   "id": "016919a0",
   "metadata": {},
   "outputs": [
    {
     "name": "stdout",
     "output_type": "stream",
     "text": [
      "\u001b[1m1/1\u001b[0m \u001b[32m━━━━━━━━━━━━━━━━━━━━\u001b[0m\u001b[37m\u001b[0m \u001b[1m0s\u001b[0m 20ms/step\n"
     ]
    }
   ],
   "source": [
    "eg_review = \"Boring and predictable. Fell asleep halfway through.\"\n",
    "\n",
    "sentiment, prediction = predict_sentiment(eg_review)"
   ]
  },
  {
   "cell_type": "code",
   "execution_count": 17,
   "id": "d788b2ba",
   "metadata": {},
   "outputs": [
    {
     "name": "stdout",
     "output_type": "stream",
     "text": [
      "Review: Boring and predictable. Fell asleep halfway through.\n",
      "Sentiment: Negative\n",
      "Prediction score: 0.00029594358056783676\n"
     ]
    }
   ],
   "source": [
    "print(f\"Review: {eg_review}\" \"\\n\"\n",
    "      f\"Sentiment: {sentiment}\" \"\\n\"\n",
    "      f\"Prediction score: {prediction}\")"
   ]
  },
  {
   "cell_type": "code",
   "execution_count": null,
   "id": "2008e4c0",
   "metadata": {},
   "outputs": [],
   "source": []
  }
 ],
 "metadata": {
  "kernelspec": {
   "display_name": "dl_venv",
   "language": "python",
   "name": "python3"
  },
  "language_info": {
   "codemirror_mode": {
    "name": "ipython",
    "version": 3
   },
   "file_extension": ".py",
   "mimetype": "text/x-python",
   "name": "python",
   "nbconvert_exporter": "python",
   "pygments_lexer": "ipython3",
   "version": "3.11.11"
  }
 },
 "nbformat": 4,
 "nbformat_minor": 5
}
